{
 "cells": [
  {
   "cell_type": "code",
   "execution_count": 1,
   "metadata": {},
   "outputs": [
    {
     "name": "stdout",
     "output_type": "stream",
     "text": [
      "Collecting ocrmypdf\n",
      "  Downloading ocrmypdf-11.3.1-py35-none-any.whl (125 kB)\n",
      "\u001b[K     |████████████████████████████████| 125 kB 8.0 MB/s eta 0:00:01\n",
      "\u001b[?25hRequirement already satisfied: Pillow>=7.0.0 in /opt/conda/lib/python3.7/site-packages (from ocrmypdf) (7.1.2)\n",
      "Requirement already satisfied: pluggy<1.0,>=0.13.0 in /opt/conda/lib/python3.7/site-packages (from ocrmypdf) (0.13.1)\n",
      "Collecting reportlab>=3.3.0\n",
      "  Downloading reportlab-3.5.54-cp37-cp37m-manylinux2010_x86_64.whl (2.6 MB)\n",
      "\u001b[K     |████████████████████████████████| 2.6 MB 14.4 MB/s eta 0:00:01\n",
      "\u001b[?25hRequirement already satisfied: pikepdf<3,>=1.14.0 in /opt/conda/lib/python3.7/site-packages (from ocrmypdf) (1.19.3)\n",
      "Requirement already satisfied: tqdm>=4 in /opt/conda/lib/python3.7/site-packages (from ocrmypdf) (4.46.1)\n",
      "Requirement already satisfied: cffi>=1.9.1 in /opt/conda/lib/python3.7/site-packages (from ocrmypdf) (1.14.0)\n",
      "Collecting pdfminer.six!=20200720,<=20201018,>=20191110\n",
      "  Downloading pdfminer.six-20201018-py3-none-any.whl (5.6 MB)\n",
      "\u001b[K     |████████████████████████████████| 5.6 MB 91.9 MB/s eta 0:00:01\n",
      "\u001b[?25hCollecting coloredlogs>=14.0\n",
      "  Downloading coloredlogs-14.0-py2.py3-none-any.whl (43 kB)\n",
      "\u001b[K     |████████████████████████████████| 43 kB 3.6 MB/s  eta 0:00:01\n",
      "\u001b[?25hCollecting img2pdf<0.5,>=0.3.0\n",
      "  Downloading img2pdf-0.4.0.tar.gz (107 kB)\n",
      "\u001b[K     |████████████████████████████████| 107 kB 87.8 MB/s eta 0:00:01\n",
      "\u001b[?25hRequirement already satisfied: importlib-metadata>=0.12; python_version < \"3.8\" in /opt/conda/lib/python3.7/site-packages (from pluggy<1.0,>=0.13.0->ocrmypdf) (1.6.0)\n",
      "Requirement already satisfied: lxml>=4.0 in /opt/conda/lib/python3.7/site-packages (from pikepdf<3,>=1.14.0->ocrmypdf) (4.5.1)\n",
      "Requirement already satisfied: pycparser in /opt/conda/lib/python3.7/site-packages (from cffi>=1.9.1->ocrmypdf) (2.20)\n",
      "Requirement already satisfied: chardet; python_version > \"3.0\" in /opt/conda/lib/python3.7/site-packages (from pdfminer.six!=20200720,<=20201018,>=20191110->ocrmypdf) (3.0.4)\n",
      "Requirement already satisfied: sortedcontainers in /opt/conda/lib/python3.7/site-packages (from pdfminer.six!=20200720,<=20201018,>=20191110->ocrmypdf) (2.1.0)\n",
      "Requirement already satisfied: cryptography in /opt/conda/lib/python3.7/site-packages (from pdfminer.six!=20200720,<=20201018,>=20191110->ocrmypdf) (2.9.2)\n",
      "Collecting humanfriendly>=7.1\n",
      "  Downloading humanfriendly-8.2-py2.py3-none-any.whl (86 kB)\n",
      "\u001b[K     |████████████████████████████████| 86 kB 8.8 MB/s  eta 0:00:01\n",
      "\u001b[?25hRequirement already satisfied: zipp>=0.5 in /opt/conda/lib/python3.7/site-packages (from importlib-metadata>=0.12; python_version < \"3.8\"->pluggy<1.0,>=0.13.0->ocrmypdf) (3.1.0)\n",
      "Requirement already satisfied: six>=1.4.1 in /opt/conda/lib/python3.7/site-packages (from cryptography->pdfminer.six!=20200720,<=20201018,>=20191110->ocrmypdf) (1.12.0)\n",
      "Building wheels for collected packages: img2pdf\n",
      "  Building wheel for img2pdf (setup.py) ... \u001b[?25ldone\n",
      "\u001b[?25h  Created wheel for img2pdf: filename=img2pdf-0.4.0-py3-none-any.whl size=40500 sha256=e82ed74731ab8d793ebcba70afc0ca22a303257baa8ff1abaf8d91c16e4a0cd4\n",
      "  Stored in directory: /home/jupyter/.cache/pip/wheels/be/6d/b8/5a972ac956ce043540f1732b5bb22a4fd98e8f34be7aba1f1b\n",
      "Successfully built img2pdf\n",
      "\u001b[31mERROR: textract 1.6.3 has requirement pdfminer.six==20181108, but you'll have pdfminer-six 20201018 which is incompatible.\u001b[0m\n",
      "\u001b[31mERROR: pdfplumber 0.5.24 has requirement pdfminer.six==20200517, but you'll have pdfminer-six 20201018 which is incompatible.\u001b[0m\n",
      "Installing collected packages: reportlab, pdfminer.six, humanfriendly, coloredlogs, img2pdf, ocrmypdf\n",
      "  Attempting uninstall: pdfminer.six\n",
      "    Found existing installation: pdfminer.six 20181108\n",
      "    Uninstalling pdfminer.six-20181108:\n",
      "      Successfully uninstalled pdfminer.six-20181108\n",
      "Successfully installed coloredlogs-14.0 humanfriendly-8.2 img2pdf-0.4.0 ocrmypdf-11.3.1 pdfminer.six-20201018 reportlab-3.5.54\n"
     ]
    }
   ],
   "source": [
    "! pip install ocrmypdf"
   ]
  },
  {
   "cell_type": "code",
   "execution_count": 2,
   "metadata": {},
   "outputs": [
    {
     "name": "stdout",
     "output_type": "stream",
     "text": [
      "\u001b[31mERROR: textract 1.6.3 has requirement pdfminer.six==20181108, but you'll have pdfminer-six 20200517 which is incompatible.\u001b[0m\n"
     ]
    }
   ],
   "source": [
    "! pip install pdfplumber -q"
   ]
  },
  {
   "cell_type": "code",
   "execution_count": 3,
   "metadata": {},
   "outputs": [],
   "source": [
    "import os\n",
    "import pdfplumber\n",
    "import subprocess"
   ]
  },
  {
   "cell_type": "code",
   "execution_count": 4,
   "metadata": {},
   "outputs": [
    {
     "name": "stdout",
     "output_type": "stream",
     "text": [
      "{'fontname': 'unknown', 'adv': Decimal('0.549'), 'upright': True, 'x0': Decimal('130.000'), 'y0': Decimal('166.000'), 'x1': Decimal('134.944'), 'y1': Decimal('175.000'), 'width': Decimal('4.944'), 'height': Decimal('9.000'), 'size': Decimal('9.000'), 'object_type': 'char', 'page_number': 1, 'stroking_color': None, 'non_stroking_color': None, 'text': 'F', 'top': Decimal('663.000'), 'bottom': Decimal('672.000'), 'doctop': Decimal('663.000')}\n"
     ]
    }
   ],
   "source": [
    "test = r\"./censored/resume_2.pdf\"\n",
    "with pdfplumber.open(test) as pdf:\n",
    "    first_page = pdf.pages[0]\n",
    "    print(first_page.chars[0])"
   ]
  },
  {
   "cell_type": "code",
   "execution_count": 5,
   "metadata": {},
   "outputs": [
    {
     "name": "stdout",
     "output_type": "stream",
     "text": [
      "Resume Soumya Shanti\n",
      "Connect - 9284473957/7066955238\n",
      "February  2019   -  March  2019 UI/UX Design intern EdyooTechnologies\n",
      "Bangalore\n",
      "Focussed on redesigning the UI design \n",
      "Status - Ongoing\n",
      "of the website of Edyoo. Worked on \n",
      "designing few posters and banners for     \n",
      "Edyoo.\n",
      "July  2016   -    2018 Software Engineer TechMahindra\n",
      "Pune\n",
      "Status - Completed Worked for American Telephone & \n",
      "Telegraph Company (ATT). Worked on \n",
      "Testing and Production area.\n",
      "\n",
      "Meanwhile prepared for National Institute \n",
      "of Designing Exam (NID). Got 130 AIR \n",
      "\n",
      "in General category. \n",
      "\n",
      "Education\n",
      "May 2012 - June 2016\n",
      " B.E (Computer Science), SSCET Bhilai\n",
      "Bhilai 8.6 GPI\n",
      "March 2010 - April 2012\n",
      " 11th and 12th, J.V.M Shyamali Ranchi\n",
      "Bhilai 78.2% \n",
      "March 2010 - April 2012\n",
      " 10 th , Sree Ayyappa Public School , Bokaro\n",
      "Bhilai 9.8 CPI\n",
      "Skils Links\n",
      "FIGMA , Adobe Photoshop , \n",
      " https://www.behance.net/soumyashanae19\n",
      "HTML , CSS\n",
      "https://www.linkedin.com/in/soumya-shanti-16a6a974/\n"
     ]
    }
   ],
   "source": [
    "with pdfplumber.open(test) as pdf:\n",
    "    page = pdf.pages[0]\n",
    "    text = page.extract_text()\n",
    "    print(text)"
   ]
  },
  {
   "cell_type": "code",
   "execution_count": 6,
   "metadata": {},
   "outputs": [],
   "source": [
    "#os.system(f'ocrmypdf --sidecar output.txt {test} C:\\Users\\kmoudgalya\\Desktop\\FTL\\ML Assignment test dataset\\censored\\output.pdf')"
   ]
  },
  {
   "cell_type": "code",
   "execution_count": 7,
   "metadata": {},
   "outputs": [],
   "source": [
    "#os.system(f'ocrmypdf {test} output.pdf')"
   ]
  },
  {
   "cell_type": "code",
   "execution_count": 8,
   "metadata": {},
   "outputs": [],
   "source": [
    "test_output = r\"./censored/Test1/output.pdf\""
   ]
  },
  {
   "cell_type": "code",
   "execution_count": 70,
   "metadata": {},
   "outputs": [],
   "source": [
    "#subprocess.call(['ocrmypdf', test, stdout = open(test_output, \"w\")])"
   ]
  },
  {
   "cell_type": "code",
   "execution_count": 9,
   "metadata": {},
   "outputs": [],
   "source": [
    "with open(test_output, 'w') as out:\n",
    "    return_code = subprocess.call(['ocrmypdf', test], stdout=out)"
   ]
  },
  {
   "cell_type": "code",
   "execution_count": 10,
   "metadata": {},
   "outputs": [
    {
     "ename": "PDFSyntaxError",
     "evalue": "No /Root object! - Is this really a PDF?",
     "output_type": "error",
     "traceback": [
      "\u001b[0;31m---------------------------------------------------------------------------\u001b[0m",
      "\u001b[0;31mPDFSyntaxError\u001b[0m                            Traceback (most recent call last)",
      "\u001b[0;32m<ipython-input-10-a306161a97ee>\u001b[0m in \u001b[0;36m<module>\u001b[0;34m\u001b[0m\n\u001b[0;32m----> 1\u001b[0;31m \u001b[0;32mwith\u001b[0m \u001b[0mpdfplumber\u001b[0m\u001b[0;34m.\u001b[0m\u001b[0mopen\u001b[0m\u001b[0;34m(\u001b[0m\u001b[0mtest_output\u001b[0m\u001b[0;34m)\u001b[0m \u001b[0;32mas\u001b[0m \u001b[0mpdf\u001b[0m\u001b[0;34m:\u001b[0m\u001b[0;34m\u001b[0m\u001b[0;34m\u001b[0m\u001b[0m\n\u001b[0m\u001b[1;32m      2\u001b[0m     \u001b[0mpage\u001b[0m \u001b[0;34m=\u001b[0m \u001b[0mpdf\u001b[0m\u001b[0;34m.\u001b[0m\u001b[0mpages\u001b[0m\u001b[0;34m[\u001b[0m\u001b[0;36m0\u001b[0m\u001b[0;34m]\u001b[0m\u001b[0;34m\u001b[0m\u001b[0;34m\u001b[0m\u001b[0m\n\u001b[1;32m      3\u001b[0m     \u001b[0mtext\u001b[0m \u001b[0;34m=\u001b[0m \u001b[0mpage\u001b[0m\u001b[0;34m.\u001b[0m\u001b[0mextract_text\u001b[0m\u001b[0;34m(\u001b[0m\u001b[0;34m)\u001b[0m\u001b[0;34m\u001b[0m\u001b[0;34m\u001b[0m\u001b[0m\n\u001b[1;32m      4\u001b[0m     \u001b[0mprint\u001b[0m\u001b[0;34m(\u001b[0m\u001b[0mtext\u001b[0m\u001b[0;34m)\u001b[0m\u001b[0;34m\u001b[0m\u001b[0;34m\u001b[0m\u001b[0m\n",
      "\u001b[0;32m/opt/conda/lib/python3.7/site-packages/pdfplumber/pdf.py\u001b[0m in \u001b[0;36mopen\u001b[0;34m(cls, path_or_fp, **kwargs)\u001b[0m\n\u001b[1;32m     44\u001b[0m     \u001b[0;32mdef\u001b[0m \u001b[0mopen\u001b[0m\u001b[0;34m(\u001b[0m\u001b[0mcls\u001b[0m\u001b[0;34m,\u001b[0m \u001b[0mpath_or_fp\u001b[0m\u001b[0;34m,\u001b[0m \u001b[0;34m**\u001b[0m\u001b[0mkwargs\u001b[0m\u001b[0;34m)\u001b[0m\u001b[0;34m:\u001b[0m\u001b[0;34m\u001b[0m\u001b[0;34m\u001b[0m\u001b[0m\n\u001b[1;32m     45\u001b[0m         \u001b[0;32mif\u001b[0m \u001b[0misinstance\u001b[0m\u001b[0;34m(\u001b[0m\u001b[0mpath_or_fp\u001b[0m\u001b[0;34m,\u001b[0m \u001b[0;34m(\u001b[0m\u001b[0mstr\u001b[0m\u001b[0;34m,\u001b[0m \u001b[0mpathlib\u001b[0m\u001b[0;34m.\u001b[0m\u001b[0mPath\u001b[0m\u001b[0;34m)\u001b[0m\u001b[0;34m)\u001b[0m\u001b[0;34m:\u001b[0m\u001b[0;34m\u001b[0m\u001b[0;34m\u001b[0m\u001b[0m\n\u001b[0;32m---> 46\u001b[0;31m             \u001b[0;32mreturn\u001b[0m \u001b[0mcls\u001b[0m\u001b[0;34m(\u001b[0m\u001b[0mopen\u001b[0m\u001b[0;34m(\u001b[0m\u001b[0mpath_or_fp\u001b[0m\u001b[0;34m,\u001b[0m \u001b[0;34m\"rb\"\u001b[0m\u001b[0;34m)\u001b[0m\u001b[0;34m,\u001b[0m \u001b[0;34m**\u001b[0m\u001b[0mkwargs\u001b[0m\u001b[0;34m)\u001b[0m\u001b[0;34m\u001b[0m\u001b[0;34m\u001b[0m\u001b[0m\n\u001b[0m\u001b[1;32m     47\u001b[0m         \u001b[0;32melse\u001b[0m\u001b[0;34m:\u001b[0m\u001b[0;34m\u001b[0m\u001b[0;34m\u001b[0m\u001b[0m\n\u001b[1;32m     48\u001b[0m             \u001b[0;32mreturn\u001b[0m \u001b[0mcls\u001b[0m\u001b[0;34m(\u001b[0m\u001b[0mpath_or_fp\u001b[0m\u001b[0;34m,\u001b[0m \u001b[0;34m**\u001b[0m\u001b[0mkwargs\u001b[0m\u001b[0;34m)\u001b[0m\u001b[0;34m\u001b[0m\u001b[0;34m\u001b[0m\u001b[0m\n",
      "\u001b[0;32m/opt/conda/lib/python3.7/site-packages/pdfplumber/pdf.py\u001b[0m in \u001b[0;36m__init__\u001b[0;34m(self, stream, pages, laparams, precision, password)\u001b[0m\n\u001b[1;32m     23\u001b[0m         \u001b[0mself\u001b[0m\u001b[0;34m.\u001b[0m\u001b[0mprecision\u001b[0m \u001b[0;34m=\u001b[0m \u001b[0mprecision\u001b[0m\u001b[0;34m\u001b[0m\u001b[0;34m\u001b[0m\u001b[0m\n\u001b[1;32m     24\u001b[0m         \u001b[0mrsrcmgr\u001b[0m \u001b[0;34m=\u001b[0m \u001b[0mPDFResourceManager\u001b[0m\u001b[0;34m(\u001b[0m\u001b[0;34m)\u001b[0m\u001b[0;34m\u001b[0m\u001b[0;34m\u001b[0m\u001b[0m\n\u001b[0;32m---> 25\u001b[0;31m         \u001b[0mself\u001b[0m\u001b[0;34m.\u001b[0m\u001b[0mdoc\u001b[0m \u001b[0;34m=\u001b[0m \u001b[0mPDFDocument\u001b[0m\u001b[0;34m(\u001b[0m\u001b[0mPDFParser\u001b[0m\u001b[0;34m(\u001b[0m\u001b[0mstream\u001b[0m\u001b[0;34m)\u001b[0m\u001b[0;34m,\u001b[0m \u001b[0mpassword\u001b[0m\u001b[0;34m=\u001b[0m\u001b[0mpassword\u001b[0m\u001b[0;34m)\u001b[0m\u001b[0;34m\u001b[0m\u001b[0;34m\u001b[0m\u001b[0m\n\u001b[0m\u001b[1;32m     26\u001b[0m         \u001b[0mself\u001b[0m\u001b[0;34m.\u001b[0m\u001b[0mmetadata\u001b[0m \u001b[0;34m=\u001b[0m \u001b[0;34m{\u001b[0m\u001b[0;34m}\u001b[0m\u001b[0;34m\u001b[0m\u001b[0;34m\u001b[0m\u001b[0m\n\u001b[1;32m     27\u001b[0m         \u001b[0;32mfor\u001b[0m \u001b[0minfo\u001b[0m \u001b[0;32min\u001b[0m \u001b[0mself\u001b[0m\u001b[0;34m.\u001b[0m\u001b[0mdoc\u001b[0m\u001b[0;34m.\u001b[0m\u001b[0minfo\u001b[0m\u001b[0;34m:\u001b[0m\u001b[0;34m\u001b[0m\u001b[0;34m\u001b[0m\u001b[0m\n",
      "\u001b[0;32m/opt/conda/lib/python3.7/site-packages/pdfminer/pdfdocument.py\u001b[0m in \u001b[0;36m__init__\u001b[0;34m(self, parser, password, caching, fallback)\u001b[0m\n\u001b[1;32m    570\u001b[0m                 \u001b[0;32mbreak\u001b[0m\u001b[0;34m\u001b[0m\u001b[0;34m\u001b[0m\u001b[0m\n\u001b[1;32m    571\u001b[0m         \u001b[0;32melse\u001b[0m\u001b[0;34m:\u001b[0m\u001b[0;34m\u001b[0m\u001b[0;34m\u001b[0m\u001b[0m\n\u001b[0;32m--> 572\u001b[0;31m             \u001b[0;32mraise\u001b[0m \u001b[0mPDFSyntaxError\u001b[0m\u001b[0;34m(\u001b[0m\u001b[0;34m'No /Root object! - Is this really a PDF?'\u001b[0m\u001b[0;34m)\u001b[0m\u001b[0;34m\u001b[0m\u001b[0;34m\u001b[0m\u001b[0m\n\u001b[0m\u001b[1;32m    573\u001b[0m         \u001b[0;32mif\u001b[0m \u001b[0mself\u001b[0m\u001b[0;34m.\u001b[0m\u001b[0mcatalog\u001b[0m\u001b[0;34m.\u001b[0m\u001b[0mget\u001b[0m\u001b[0;34m(\u001b[0m\u001b[0;34m'Type'\u001b[0m\u001b[0;34m)\u001b[0m \u001b[0;32mis\u001b[0m \u001b[0;32mnot\u001b[0m \u001b[0mLITERAL_CATALOG\u001b[0m\u001b[0;34m:\u001b[0m\u001b[0;34m\u001b[0m\u001b[0;34m\u001b[0m\u001b[0m\n\u001b[1;32m    574\u001b[0m             \u001b[0;32mif\u001b[0m \u001b[0msettings\u001b[0m\u001b[0;34m.\u001b[0m\u001b[0mSTRICT\u001b[0m\u001b[0;34m:\u001b[0m\u001b[0;34m\u001b[0m\u001b[0;34m\u001b[0m\u001b[0m\n",
      "\u001b[0;31mPDFSyntaxError\u001b[0m: No /Root object! - Is this really a PDF?"
     ]
    }
   ],
   "source": [
    "with pdfplumber.open(test_output) as pdf:\n",
    "    page = pdf.pages[0]\n",
    "    text = page.extract_text()\n",
    "    print(text)"
   ]
  },
  {
   "cell_type": "code",
   "execution_count": null,
   "metadata": {},
   "outputs": [],
   "source": []
  }
 ],
 "metadata": {
  "kernelspec": {
   "display_name": "Python 3",
   "language": "python",
   "name": "python3"
  },
  "language_info": {
   "codemirror_mode": {
    "name": "ipython",
    "version": 3
   },
   "file_extension": ".py",
   "mimetype": "text/x-python",
   "name": "python",
   "nbconvert_exporter": "python",
   "pygments_lexer": "ipython3",
   "version": "3.7.6"
  }
 },
 "nbformat": 4,
 "nbformat_minor": 4
}
